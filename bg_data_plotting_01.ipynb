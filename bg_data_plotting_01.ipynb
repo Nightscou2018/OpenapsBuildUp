{
 "cells": [
  {
   "cell_type": "code",
   "execution_count": 123,
   "metadata": {
    "collapsed": false
   },
   "outputs": [
    {
     "name": "stdout",
     "output_type": "stream",
     "text": [
      "https://mikestebbinscgmtest.azurewebsites.net/api/v1/entries.json?find[date][$lte]=1462905809000&count=3\n"
     ]
    }
   ],
   "source": [
    "import requests\n",
    "import json\n",
    "import pprint\n",
    "import datetime\n",
    "from datetime import date\n",
    "\n",
    "base_url = 'https://mikestebbinscgmtest.azurewebsites.net/api/v1/entries.json?'\n",
    "extra_url='find[date][$lte]=1462905809000&count=3'\n",
    "url = base_url + extra_url\n",
    "print (url)"
   ]
  },
  {
   "cell_type": "code",
   "execution_count": 124,
   "metadata": {
    "collapsed": false
   },
   "outputs": [
    {
     "name": "stdout",
     "output_type": "stream",
     "text": [
      "[{'_id': '57322c1aec89f67d8aa23d02',\n",
      "  'date': 1462905753000,\n",
      "  'dateString': 'Tue May 10 11:42:33 PDT 2016',\n",
      "  'device': 'dexcom',\n",
      "  'direction': 'Flat',\n",
      "  'filtered': 184672,\n",
      "  'noise': 1,\n",
      "  'rssi': 185,\n",
      "  'sgv': 179,\n",
      "  'type': 'sgv',\n",
      "  'unfiltered': 181440},\n",
      " {'_id': '57322aedec89f67d8aa23cf8',\n",
      "  'date': 1462905453000,\n",
      "  'dateString': 'Tue May 10 11:37:33 PDT 2016',\n",
      "  'device': 'dexcom',\n",
      "  'direction': 'Flat',\n",
      "  'filtered': 185632,\n",
      "  'noise': 1,\n",
      "  'rssi': 180,\n",
      "  'sgv': 181,\n",
      "  'type': 'sgv',\n",
      "  'unfiltered': 183040},\n",
      " {'_id': '573229c1ec89f67d8aa23cef',\n",
      "  'date': 1462905153000,\n",
      "  'dateString': 'Tue May 10 11:32:33 PDT 2016',\n",
      "  'device': 'dexcom',\n",
      "  'direction': 'Flat',\n",
      "  'filtered': 186400,\n",
      "  'noise': 1,\n",
      "  'rssi': 185,\n",
      "  'sgv': 186,\n",
      "  'type': 'sgv',\n",
      "  'unfiltered': 186688}]\n",
      "None\n",
      "\n",
      "-----------------------------------------------------------------------------------------------------------\n"
     ]
    }
   ],
   "source": [
    "r = requests.get(url)\n",
    "\n",
    "#print(r.status_code)\n",
    "#print()\n",
    "#print(r.headers['content-type'])\n",
    "#print(r.encoding)\n",
    "#print(r.text)\n",
    "print(pprint.pprint(r.json()))\n",
    "print()\n",
    "print('-----------------------------------------------------------------------------------------------------------')"
   ]
  },
  {
   "cell_type": "code",
   "execution_count": 125,
   "metadata": {
    "collapsed": false
   },
   "outputs": [],
   "source": [
    "data=json.loads(r.text)"
   ]
  },
  {
   "cell_type": "code",
   "execution_count": 127,
   "metadata": {
    "collapsed": false
   },
   "outputs": [],
   "source": [
    "time_and_data=[]"
   ]
  },
  {
   "cell_type": "code",
   "execution_count": 128,
   "metadata": {
    "collapsed": false
   },
   "outputs": [
    {
     "data": {
      "text/plain": [
       "{'_id': '57322aedec89f67d8aa23cf8',\n",
       " 'date': 1462905453000,\n",
       " 'dateString': 'Tue May 10 11:37:33 PDT 2016',\n",
       " 'device': 'dexcom',\n",
       " 'direction': 'Flat',\n",
       " 'filtered': 185632,\n",
       " 'noise': 1,\n",
       " 'rssi': 180,\n",
       " 'sgv': 181,\n",
       " 'type': 'sgv',\n",
       " 'unfiltered': 183040}"
      ]
     },
     "execution_count": 128,
     "metadata": {},
     "output_type": "execute_result"
    }
   ],
   "source": [
    "data[1]"
   ]
  },
  {
   "cell_type": "code",
   "execution_count": 129,
   "metadata": {
    "collapsed": false
   },
   "outputs": [],
   "source": [
    "for item in data:\n",
    "    properdatetime = datetime.datetime.strptime(item['dateString'], \"%a %b %d %H:%M:%S PDT %Y\")\n",
    "    sgv = item['sgv']\n",
    "    time_and_data.append((properdatetime,sgv))"
   ]
  },
  {
   "cell_type": "code",
   "execution_count": 130,
   "metadata": {
    "collapsed": false
   },
   "outputs": [
    {
     "name": "stdout",
     "output_type": "stream",
     "text": [
      "[(datetime.datetime(2016, 5, 10, 11, 42, 33), 179), (datetime.datetime(2016, 5, 10, 11, 37, 33), 181), (datetime.datetime(2016, 5, 10, 11, 32, 33), 186)]\n"
     ]
    }
   ],
   "source": [
    "print(time_and_data)"
   ]
  },
  {
   "cell_type": "code",
   "execution_count": 136,
   "metadata": {
    "collapsed": false
   },
   "outputs": [
    {
     "data": {
      "text/plain": [
       "datetime.datetime(2016, 5, 10, 11, 42, 33)"
      ]
     },
     "execution_count": 136,
     "metadata": {},
     "output_type": "execute_result"
    }
   ],
   "source": [
    "time_and_data[0][0]"
   ]
  },
  {
   "cell_type": "code",
   "execution_count": 137,
   "metadata": {
    "collapsed": false
   },
   "outputs": [
    {
     "ename": "TypeError",
     "evalue": "an integer is required (got type datetime.datetime)",
     "output_type": "error",
     "traceback": [
      "\u001b[1;31m---------------------------------------------------------------------------\u001b[0m",
      "\u001b[1;31mTypeError\u001b[0m                                 Traceback (most recent call last)",
      "\u001b[1;32m<ipython-input-137-2b96829bae7e>\u001b[0m in \u001b[0;36m<module>\u001b[1;34m()\u001b[0m\n\u001b[1;32m----> 1\u001b[1;33m \u001b[0mdatetime\u001b[0m\u001b[1;33m.\u001b[0m\u001b[0mdate\u001b[0m\u001b[1;33m(\u001b[0m\u001b[0mtime_and_data\u001b[0m\u001b[1;33m[\u001b[0m\u001b[1;36m0\u001b[0m\u001b[1;33m]\u001b[0m\u001b[1;33m[\u001b[0m\u001b[1;36m0\u001b[0m\u001b[1;33m]\u001b[0m\u001b[1;33m)\u001b[0m\u001b[1;33m\u001b[0m\u001b[0m\n\u001b[0m",
      "\u001b[1;31mTypeError\u001b[0m: an integer is required (got type datetime.datetime)"
     ]
    }
   ],
   "source": [
    "datetime.date(time_and_data[0][0])"
   ]
  },
  {
   "cell_type": "code",
   "execution_count": null,
   "metadata": {
    "collapsed": true
   },
   "outputs": [],
   "source": []
  }
 ],
 "metadata": {
  "kernelspec": {
   "display_name": "Python 3",
   "language": "python",
   "name": "python3"
  },
  "language_info": {
   "codemirror_mode": {
    "name": "ipython",
    "version": 3
   },
   "file_extension": ".py",
   "mimetype": "text/x-python",
   "name": "python",
   "nbconvert_exporter": "python",
   "pygments_lexer": "ipython3",
   "version": "3.5.1"
  }
 },
 "nbformat": 4,
 "nbformat_minor": 0
}
